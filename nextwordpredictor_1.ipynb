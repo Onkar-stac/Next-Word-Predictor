{
  "nbformat": 4,
  "nbformat_minor": 0,
  "metadata": {
    "colab": {
      "name": "nextwordpredictor_1.ipynb",
      "provenance": [],
      "authorship_tag": "ABX9TyMVBA1nnyhKZV0bIFQxJNkm",
      "include_colab_link": true
    },
    "kernelspec": {
      "name": "python3",
      "display_name": "Python 3"
    },
    "language_info": {
      "name": "python"
    },
    "accelerator": "GPU"
  },
  "cells": [
    {
      "cell_type": "markdown",
      "metadata": {
        "id": "view-in-github",
        "colab_type": "text"
      },
      "source": [
        "<a href=\"https://colab.research.google.com/github/Onkar-stac/Next-Word-Predictor/blob/main/nextwordpredictor_1.ipynb\" target=\"_parent\"><img src=\"https://colab.research.google.com/assets/colab-badge.svg\" alt=\"Open In Colab\"/></a>"
      ]
    },
    {
      "cell_type": "code",
      "execution_count": null,
      "metadata": {
        "id": "lx025vcrzkSs"
      },
      "outputs": [],
      "source": [
        "#import library\n",
        "import re\n",
        "import requests\n",
        "import tensorflow as tf\n",
        "from tensorflow.keras.preprocessing.text import Tokenizer\n",
        "from tensorflow.keras.layers import Embedding, LSTM, Dense,Dropout\n",
        "from tensorflow.keras.models import Sequential\n",
        "from tensorflow.keras.utils import to_categorical\n",
        "from tensorflow.keras.optimizers import Adam\n",
        "import pickle\n",
        "import numpy as np\n",
        "import os"
      ]
    },
    {
      "cell_type": "code",
      "source": [
        "# data to extract\n",
        "url = \"https://www.gutenberg.org/cache/epub/5200/pg5200.txt\""
      ],
      "metadata": {
        "id": "nIj3tVMhztR_"
      },
      "execution_count": null,
      "outputs": []
    },
    {
      "cell_type": "code",
      "source": [
        "#function to extract data from the url\n",
        "def get_book(url):\n",
        "  raw = requests.get(url).text\n",
        "  #discarding the beginning of the data\n",
        "  start = re.search(r\"\\*\\*\\* START OF THIS PROJECT GUTENBERG EBOOK .* \\*\\*\\*\",raw).end()\n",
        "  #discarding the end of the data\n",
        "  stop=re.search(r\"II\", raw).start()\n",
        "  text=raw[start:stop] #relevant data\n",
        "  return text"
      ],
      "metadata": {
        "id": "h11s0Uff0QPA"
      },
      "execution_count": null,
      "outputs": []
    },
    {
      "cell_type": "code",
      "source": [
        "#processing\n",
        "def preprocess(sentence):\n",
        "  return re.sub('[^A-Za-z0-9.]+',' ',sentence).lower()"
      ],
      "metadata": {
        "id": "CBhtb-YR0QUm"
      },
      "execution_count": null,
      "outputs": []
    },
    {
      "cell_type": "code",
      "source": [
        "#calling the functions\n",
        "book = get_book(url)\n",
        "processed_book=preprocess(book)\n",
        "print(processed_book)"
      ],
      "metadata": {
        "colab": {
          "base_uri": "https://localhost:8080/"
        },
        "id": "sisfba3D0RAd",
        "outputId": "040fbdf5-ca07-47ba-aedc-f4bf8c76b51b"
      },
      "execution_count": null,
      "outputs": [
        {
          "output_type": "stream",
          "name": "stdout",
          "text": [
            " copyright c 2002 david wyllie. metamorphosis franz kafka translated by david wyllie i one morning when gregor samsa woke from troubled dreams he found himself transformed in his bed into a horrible vermin. he lay on his armour like back and if he lifted his head a little he could see his brown belly slightly domed and divided by arches into stiff sections. the bedding was hardly able to cover it and seemed ready to slide off any moment. his many legs pitifully thin compared with the size of the rest of him waved about helplessly as he looked. what s happened to me he thought. it wasn t a dream. his room a proper human room although a little too small lay peacefully between its four familiar walls. a collection of textile samples lay spread out on the table samsa was a travelling salesman and above it there hung a picture that he had recently cut out of an illustrated magazine and housed in a nice gilded frame. it showed a lady fitted out with a fur hat and fur boa who sat upright raising a heavy fur muff that covered the whole of her lower arm towards the viewer. gregor then turned to look out the window at the dull weather. drops of rain could be heard hitting the pane which made him feel quite sad. how about if i sleep a little bit longer and forget all this nonsense he thought but that was something he was unable to do because he was used to sleeping on his right and in his present state couldn t get into that position. however hard he threw himself onto his right he always rolled back to where he was. he must have tried it a hundred times shut his eyes so that he wouldn t have to look at the floundering legs and only stopped when he began to feel a mild dull pain there that he had never felt before. oh god he thought what a strenuous career it is that i ve chosen travelling day in and day out. doing business like this takes much more effort than doing your own business at home and on top of that there s the curse of travelling worries about making train connections bad and irregular food contact with different people all the time so that you can never get to know anyone or become friendly with them. it can all go to hell he felt a slight itch up on his belly pushed himself slowly up on his back towards the headboard so that he could lift his head better found where the itch was and saw that it was covered with lots of little white spots which he didn t know what to make of and when he tried to feel the place with one of his legs he drew it quickly back because as soon as he touched it he was overcome by a cold shudder. he slid back into his former position. getting up early all the time he thought it makes you stupid. you ve got to get enough sleep. other travelling salesmen live a life of luxury. for instance whenever i go back to the guest house during the morning to copy out the contract these gentlemen are always still sitting there eating their breakfasts. i ought to just try that with my boss i d get kicked out on the spot. but who knows maybe that would be the best thing for me. if i didn t have my parents to think about i d have given in my notice a long time ago i d have gone up to the boss and told him just what i think tell him everything i would let him know just what i feel. he d fall right off his desk and it s a funny sort of business to be sitting up there at your desk talking down at your subordinates from up there especially when you have to go right up close because the boss is hard of hearing. well there s still some hope once i ve got the money together to pay off my parents debt to him another five or six years i suppose that s definitely what i ll do. that s when i ll make the big change. first of all though i ve got to get up my train leaves at five. and he looked over at the alarm clock ticking on the chest of drawers. god in heaven he thought. it was half past six and the hands were quietly moving forwards it was even later than half past more like quarter to seven. had the alarm clock not rung he could see from the bed that it had been set for four o clock as it should have been it certainly must have rung. yes but was it possible to quietly sleep through that furniture rattling noise true he had not slept peacefully but probably all the more deeply because of that. what should he do now the next train went at seven if he were to catch that he would have to rush like mad and the collection of samples was still not packed and he did not at all feel particularly fresh and lively. and even if he did catch the train he would not avoid his boss s anger as the office assistant would have been there to see the five o clock train go he would have put in his report about gregor s not being there a long time ago. the office assistant was the boss s man spineless and with no understanding. what about if he reported sick but that would be extremely strained and suspicious as in fifteen years of service gregor had never once yet been ill. his boss would certainly come round with the doctor from the medical insurance company accuse his parents of having a lazy son and accept the doctor s recommendation not to make any claim as the doctor believed that no one was ever ill but that many were workshy. and what s more would he have been entirely wrong in this case gregor did in fact apart from excessive sleepiness after sleeping for so long feel completely well and even felt much hungrier than usual. he was still hurriedly thinking all this through unable to decide to get out of the bed when the clock struck quarter to seven. there was a cautious knock at the door near his head. gregor somebody called it was his mother it s quarter to seven. didn t you want to go somewhere that gentle voice gregor was shocked when he heard his own voice answering it could hardly be recognised as the voice he had had before. as if from deep inside him there was a painful and uncontrollable squeaking mixed in with it the words could be made out at first but then there was a sort of echo which made them unclear leaving the hearer unsure whether he had heard properly or not. gregor had wanted to give a full answer and explain everything but in the circumstances contented himself with saying yes mother yes thank you i m getting up now. the change in gregor s voice probably could not be noticed outside through the wooden door as his mother was satisfied with this explanation and shuffled away. but this short conversation made the other members of the family aware that gregor against their expectations was still at home and soon his father came knocking at one of the side doors gently but with his fist. gregor gregor he called what s wrong and after a short while he called again with a warning deepness in his voice gregor gregor at the other side door his sister came plaintively gregor aren t you well do you need anything gregor answered to both sides i m ready now making an effort to remove all the strangeness from his voice by enunciating very carefully and putting long pauses between each individual word. his father went back to his breakfast but his sister whispered gregor open the door i beg of you. gregor however had no thought of opening the door and instead congratulated himself for his cautious habit acquired from his travelling of locking all doors at night even when he was at home. the first thing he wanted to do was to get up in peace without being disturbed to get dressed and most of all to have his breakfast. only then would he consider what to do next as he was well aware that he would not bring his thoughts to any sensible conclusions by lying in bed. he remembered that he had often felt a slight pain in bed perhaps caused by lying awkwardly but that had always turned out to be pure imagination and he wondered how his imaginings would slowly resolve themselves today. he did not have the slightest doubt that the change in his voice was nothing more than the first sign of a serious cold which was an occupational hazard for travelling salesmen. it was a simple matter to throw off the covers he only had to blow himself up a little and they fell off by themselves. but it became difficult after that especially as he was so exceptionally broad. he would have used his arms and his hands to push himself up but instead of them he only had all those little legs continuously moving in different directions and which he was moreover unable to control. if he wanted to bend one of them then that was the first one that would stretch itself out and if he finally managed to do what he wanted with that leg all the others seemed to be set free and would move about painfully. this is something that can t be done in bed gregor said to himself so don t keep trying to do it . the first thing he wanted to do was get the lower part of his body out of the bed but he had never seen this lower part and could not imagine what it looked like it turned out to be too hard to move it went so slowly and finally almost in a frenzy when he carelessly shoved himself forwards with all the force he could gather he chose the wrong direction hit hard against the lower bedpost and learned from the burning pain he felt that the lower part of his body might well at present be the most sensitive. so then he tried to get the top part of his body out of the bed first carefully turning his head to the side. this he managed quite easily and despite its breadth and its weight the bulk of his body eventually followed slowly in the direction of the head. but when he had at last got his head out of the bed and into the fresh air it occurred to him that if he let himself fall it would be a miracle if his head were not injured so he became afraid to carry on pushing himself forward the same way. and he could not knock himself out now at any price better to stay in bed than lose consciousness. it took just as much effort to get back to where he had been earlier but when he lay there sighing and was once more watching his legs as they struggled against each other even harder than before if that was possible he could think of no way of bringing peace and order to this chaos. he told himself once more that it was not possible for him to stay in bed and that the most sensible thing to do would be to get free of it in whatever way he could at whatever sacrifice. at the same time though he did not forget to remind himself that calm consideration was much better than rushing to desperate conclusions. at times like this he would direct his eyes to the window and look out as clearly as he could but unfortunately even the other side of the narrow street was enveloped in morning fog and the view had little confidence or cheer to offer him. seven o clock already he said to himself when the clock struck again seven o clock and there s still a fog like this. and he lay there quietly a while longer breathing lightly as if he perhaps expected the total stillness to bring things back to their real and natural state. but then he said to himself before it strikes quarter past seven i ll definitely have to have got properly out of bed. and by then somebody will have come round from work to ask what s happened to me as well as they open up at work before seven o clock. and so he set himself to the task of swinging the entire length of his body out of the bed all at the same time. if he succeeded in falling out of bed in this way and kept his head raised as he did so he could probably avoid injuring it. his back seemed to be quite hard and probably nothing would happen to it falling onto the carpet. his main concern was for the loud noise he was bound to make and which even through all the doors would probably raise concern if not alarm. but it was something that had to be risked. when gregor was already sticking half way out of the bed the new method was more of a game than an effort all he had to do was rock back and forth it occurred to him how simple everything would be if somebody came to help him. two strong people he had his father and the maid in mind would have been more than enough they would only have to push their arms under the dome of his back peel him away from the bed bend down with the load and then be patient and careful as he swang over onto the floor where hopefully the little legs would find a use. should he really call for help though even apart from the fact that all the doors were locked despite all the difficulty he was in he could not suppress a smile at this thought. after a while he had already moved so far across that it would have been hard for him to keep his balance if he rocked too hard. the time was now ten past seven and he would have to make a final decision very soon. then there was a ring at the door of the flat. that ll be someone from work he said to himself and froze very still although his little legs only became all the more lively as they danced around. for a moment everything remained quiet. they re not opening the door gregor said to himself caught in some nonsensical hope. but then of course the maid s firm steps went to the door as ever and opened it. gregor only needed to hear the visitor s first words of greeting and he knew who it was the chief clerk himself. why did gregor have to be the only one condemned to work for a company where they immediately became highly suspicious at the slightest shortcoming were all employees every one of them louts was there not one of them who was faithful and devoted who would go so mad with pangs of conscience that he couldn t get out of bed if he didn t spend at least a couple of hours in the morning on company business was it really not enough to let one of the trainees make enquiries assuming enquiries were even necessary did the chief clerk have to come himself and did they have to show the whole innocent family that this was so suspicious that only the chief clerk could be trusted to have the wisdom to investigate it and more because these thoughts had made him upset than through any proper decision he swang himself with all his force out of the bed. there was a loud thump but it wasn t really a loud noise. his fall was softened a little by the carpet and gregor s back was also more elastic than he had thought which made the sound muffled and not too noticeable. he had not held his head carefully enough though and hit it as he fell annoyed and in pain he turned it and rubbed it against the carpet. something s fallen down in there said the chief clerk in the room on the left. gregor tried to imagine whether something of the sort that had happened to him today could ever happen to the chief clerk too you had to concede that it was possible. but as if in gruff reply to this question the chief clerk s firm footsteps in his highly polished boots could now be heard in the adjoining room. from the room on his right gregor s sister whispered to him to let him know gregor the chief clerk is here. yes i know said gregor to himself but without daring to raise his voice loud enough for his sister to hear him. gregor said his father now from the room to his left the chief clerk has come round and wants to know why you didn t leave on the early train. we don t know what to say to him. and anyway he wants to speak to you personally. so please open up this door. i m sure he ll be good enough to forgive the untidiness of your room. then the chief clerk called good morning mr. samsa . he isn t well said his mother to the chief clerk while his father continued to speak through the door. he isn t well please believe me. why else would gregor have missed a train the lad only ever thinks about the business. it nearly makes me cross the way he never goes out in the evenings he s been in town for a week now but stayed home every evening. he sits with us in the kitchen and just reads the paper or studies train timetables. his idea of relaxation is working with his fretsaw. he s made a little frame for instance it only took him two or three evenings you ll be amazed how nice it is it s hanging up in his room you ll see it as soon as gregor opens the door. anyway i m glad you re here we wouldn t have been able to get gregor to open the door by ourselves he s so stubborn and i m sure he isn t well he said this morning that he is but he isn t. i ll be there in a moment said gregor slowly and thoughtfully but without moving so that he would not miss any word of the conversation. well i can t think of any other way of explaining it mrs. samsa said the chief clerk i hope it s nothing serious. but on the other hand i must say that if we people in commerce ever become slightly unwell then fortunately or unfortunately as you like we simply have to overcome it because of business considerations. can the chief clerk come in to see you now then asked his father impatiently knocking at the door again. no said gregor. in the room on his right there followed a painful silence in the room on his left his sister began to cry. so why did his sister not go and join the others she had probably only just got up and had not even begun to get dressed. and why was she crying was it because he had not got up and had not let the chief clerk in because he was in danger of losing his job and if that happened his boss would once more pursue their parents with the same demands as before there was no need to worry about things like that yet. gregor was still there and had not the slightest intention of abandoning his family. for the time being he just lay there on the carpet and no one who knew the condition he was in would seriously have expected him to let the chief clerk in. it was only a minor discourtesy and a suitable excuse could easily be found for it later on it was not something for which gregor could be sacked on the spot. and it seemed to gregor much more sensible to leave him now in peace instead of disturbing him with talking at him and crying. but the others didn t know what was happening they were worried that would excuse their behaviour. the chief clerk now raised his voice mr. samsa he called to him what is wrong you barricade yourself in your room give us no more than yes or no for an answer you are causing serious and unnecessary concern to your parents and you fail and i mention this just by the way you fail to carry out your business duties in a way that is quite unheard of. i m speaking here on behalf of your parents and of your employer and really must request a clear and immediate explanation. i am astonished quite astonished. i thought i knew you as a calm and sensible person and now you suddenly seem to be showing off with peculiar whims. this morning your employer did suggest a possible reason for your failure to appear it s true it had to do with the money that was recently entrusted to you but i came near to giving him my word of honour that that could not be the right explanation. but now that i see your incomprehensible stubbornness i no longer feel any wish whatsoever to intercede on your behalf. and nor is your position all that secure. i had originally intended to say all this to you in private but since you cause me to waste my time here for no good reason i don t see why your parents should not also learn of it. your turnover has been very unsatisfactory of late i grant you that it s not the time of year to do especially good business we recognise that but there simply is no time of year to do no business at all mr. samsa we cannot allow there to be. but sir called gregor beside himself and forgetting all else in the excitement i ll open up immediately just a moment. i m slightly unwell an attack of dizziness i haven t been able to get up. i m still in bed now. i m quite fresh again now though. i m just getting out of bed. just a moment. be patient it s not quite as easy as i d thought. i m quite alright now though. it s shocking what can suddenly happen to a person i was quite alright last night my parents know about it perhaps better than me i had a small symptom of it last night already. they must have noticed it. i don t know why i didn t let you know at work but you always think you can get over an illness without staying at home. please don t make my parents suffer there s no basis for any of the accusations you re making nobody s ever said a word to me about any of these things. maybe you haven t read the latest contracts i sent in. i ll set off with the eight o clock train as well these few hours of rest have given me strength. you don t need to wait sir i ll be in the office soon after you and please be so good as to tell that to the boss and recommend me to him and while gregor gushed out these words hardly knowing what he was saying he made his way over to the chest of drawers this was easily done probably because of the practise he had already had in bed where he now tried to get himself upright. he really did want to open the door really did want to let them see him and to speak with the chief clerk the others were being so insistent and he was curious to learn what they would say when they caught sight of him. if they were shocked then it would no longer be gregor s responsibility and he could rest. if however they took everything calmly he would still have no reason to be upset and if he hurried he really could be at the station for eight o clock. the first few times he tried to climb up on the smooth chest of drawers he just slid down again but he finally gave himself one last swing and stood there upright the lower part of his body was in serious pain but he no longer gave any attention to it. now he let himself fall against the back of a nearby chair and held tightly to the edges of it with his little legs. by now he had also calmed down and kept quiet so that he could listen to what the chief clerk was saying. did you understand a word of all that the chief clerk asked his parents surely he s not trying to make fools of us . oh god called his mother who was already in tears he could be seriously ill and we re making him suffer. grete grete she then cried. mother his sister called from the other side. they communicated across gregor s room. you ll have to go for the doctor straight away. gregor is ill. quick get the doctor. did you hear the way gregor spoke just now that was the voice of an animal said the chief clerk with a calmness that was in contrast with his mother s screams. anna anna his father called into the kitchen through the entrance hall clapping his hands get a locksmith here now and the two girls their skirts swishing immediately ran out through the hall wrenching open the front door of the flat as they went. how had his sister managed to get dressed so quickly there was no sound of the door banging shut again they must have left it open people often do in homes where something awful has happened. gregor in contrast had become much calmer. so they couldn t understand his words any more although they seemed clear enough to him clearer than before perhaps his ears had become used to the sound. they had realised though that there was something wrong with him and were ready to help. the first response to his situation had been confident and wise and that made him feel better. he felt that he had been drawn back in among people and from the doctor and the locksmith he expected great and surprising achievements although he did not really distinguish one from the other. whatever was said next would be crucial so in order to make his voice as clear as possible he coughed a little but taking care to do this not too loudly as even this might well sound different from the way that a human coughs and he was no longer sure he could judge this for himself. meanwhile it had become very quiet in the next room. perhaps his parents were sat at the table whispering with the chief clerk or perhaps they were all pressed against the door and listening. gregor slowly pushed his way over to the door with the chair. once there he let go of it and threw himself onto the door holding himself upright against it using the adhesive on the tips of his legs. he rested there a little while to recover from the effort involved and then set himself to the task of turning the key in the lock with his mouth. he seemed unfortunately to have no proper teeth how was he then to grasp the key but the lack of teeth was of course made up for with a very strong jaw using the jaw he really was able to start the key turning ignoring the fact that he must have been causing some kind of damage as a brown fluid came from his mouth flowed over the key and dripped onto the floor. listen said the chief clerk in the next room he s turning the key. gregor was greatly encouraged by this but they all should have been calling to him his father and his mother too well done gregor they should have cried keep at it keep hold of the lock and with the idea that they were all excitedly following his efforts he bit on the key with all his strength paying no attention to the pain he was causing himself. as the key turned round he turned around the lock with it only holding himself upright with his mouth and hung onto the key or pushed it down again with the whole weight of his body as needed. the clear sound of the lock as it snapped back was gregor s sign that he could break his concentration and as he regained his breath he said to himself so i didn t need the locksmith after all . then he lay his head on the handle of the door to open it completely. because he had to open the door in this way it was already wide open before he could be seen. he had first to slowly turn himself around one of the double doors and he had to do it very carefully if he did not want to fall flat on his back before entering the room. he was still occupied with this difficult movement unable to pay attention to anything else when he heard the chief clerk exclaim a loud oh which sounded like the soughing of the wind. now he also saw him he was the nearest to the door his hand pressed against his open mouth and slowly retreating as if driven by a steady and invisible force. gregor s mother her hair still dishevelled from bed despite the chief clerk s being there looked at his father. then she unfolded her arms took two steps forward towards gregor and sank down onto the floor into her skirts that spread themselves out around her as her head disappeared down onto her breast. his father looked hostile and clenched his fists as if wanting to knock gregor back into his room. then he looked uncertainly round the living room covered his eyes with his hands and wept so that his powerful chest shook. so gregor did not go into the room but leant against the inside of the other door which was still held bolted in place. in this way only half of his body could be seen along with his head above it which he leant over to one side as he peered out at the others. meanwhile the day had become much lighter part of the endless grey black building on the other side of the street which was a hospital could be seen quite clearly with the austere and regular line of windows piercing its facade the rain was still falling now throwing down large individual droplets which hit the ground one at a time. the washing up from breakfast lay on the table there was so much of it because for gregor s father breakfast was the most important meal of the day and he would stretch it out for several hours as he sat reading a number of different newspapers. on the wall exactly opposite there was photograph of gregor when he was a lieutenant in the army his sword in his hand and a carefree smile on his face as he called forth respect for his uniform and bearing. the door to the entrance hall was open and as the front door of the flat was also open he could see onto the landing and the stairs where they began their way down below. now then said gregor well aware that he was the only one to have kept calm i ll get dressed straight away now pack up my samples and set off. will you please just let me leave you can see he said to the chief clerk that i m not stubborn and i like to do my job being a commercial traveller is arduous but without travelling i couldn t earn my living. so where are you going in to the office yes will you report everything accurately then it s quite possible for someone to be temporarily unable to work but that s just the right time to remember what s been achieved in the past and consider that later on once the difficulty has been removed he will certainly work with all the more diligence and concentration. you re well aware that i m seriously in debt to our employer as well as having to look after my parents and my sister so that i m trapped in a difficult situation but i will work my way out of it again. please don t make things any harder for me than they are already and don t take sides against me at the office. i know that nobody likes the travellers. they think we earn an enormous wage as well as having a soft time of it. that s just prejudice but they have no particular reason to think better of it. but you sir you have a better overview than the rest of the staff in fact if i can say this in confidence a better overview than the boss himself it s very easy for a businessman like him to make mistakes about his employees and judge them more harshly than he should. and you re also well aware that we travellers spend almost the whole year away from the office so that we can very easily fall victim to gossip and chance and groundless complaints and it s almost impossible to defend yourself from that sort of thing we don t usually even hear about them or if at all it s when we arrive back home exhausted from a trip and that s when we feel the harmful effects of what s been going on without even knowing what caused them. please don t go away at least first say something to show that you grant that i m at least partly right but the chief clerk had turned away as soon as gregor had started to speak and with protruding lips only stared back at him over his trembling shoulders as he left. he did not keep still for a moment while gregor was speaking but moved steadily towards the door without taking his eyes off him. he moved very gradually as if there had been some secret prohibition on leaving the room. it was only when he had reached the entrance hall that he made a sudden movement drew his foot from the living room and rushed forward in a panic. in the hall he stretched his right hand far out towards the stairway as if out there there were some supernatural force waiting to save him. gregor realised that it was out of the question to let the chief clerk go away in this mood if his position in the firm was not to be put into extreme danger. that was something his parents did not understand very well over the years they had become convinced that this job would provide for gregor for his entire life and besides they had so much to worry about at present that they had lost sight of any thought for the future. gregor though did think about the future. the chief clerk had to be held back calmed down convinced and finally won over the future of gregor and his family depended on it if only his sister were here she was clever she was already in tears while gregor was still lying peacefully on his back. and the chief clerk was a lover of women surely she could persuade him she would close the front door in the entrance hall and talk him out of his shocked state. but his sister was not there gregor would have to do the job himself. and without considering that he still was not familiar with how well he could move about in his present state or that his speech still might not or probably would not be understood he let go of the door pushed himself through the opening tried to reach the chief clerk on the landing who ridiculously was holding on to the banister with both hands but gregor fell immediately over and with a little scream as he sought something to hold onto landed on his numerous little legs. hardly had that happened than for the first time that day he began to feel alright with his body the little legs had the solid ground under them to his pleasure they did exactly as he told them they were even making the effort to carry him where he wanted to go and he was soon believing that all his sorrows would soon be finally at an end. he held back the urge to move but swayed from side to side as he crouched there on the floor. his mother was not far away in front of him and seemed at first quite engrossed in herself but then she suddenly jumped up with her arms outstretched and her fingers spread shouting help for pity s sake help the way she held her head suggested she wanted to see gregor better but the unthinking way she was hurrying backwards showed that she did not she had forgotten that the table was behind her with all the breakfast things on it when she reached the table she sat quickly down on it without knowing what she was doing without even seeming to notice that the coffee pot had been knocked over and a gush of coffee was pouring down onto the carpet. mother mother said gregor gently looking up at her. he had completely forgotten the chief clerk for the moment but could not help himself snapping in the air with his jaws at the sight of the flow of coffee. that set his mother screaming anew she fled from the table and into the arms of his father as he rushed towards her. gregor though had no time to spare for his parents now the chief clerk had already reached the stairs with his chin on the banister he looked back for the last time. gregor made a run for him he wanted to be sure of reaching him the chief clerk must have expected something as he leapt down several steps at once and disappeared his shouts resounding all around the staircase. the flight of the chief clerk seemed unfortunately to put gregor s father into a panic as well. until then he had been relatively self controlled but now instead of running after the chief clerk himself or at least not impeding gregor as he ran after him gregor s father seized the chief clerk s stick in his right hand the chief clerk had left it behind on a chair along with his hat and overcoat picked up a large newspaper from the table with his left and used them to drive gregor back into his room stamping his foot at him as he went. gregor s appeals to his father were of no help his appeals were simply not understood however much he humbly turned his head his father merely stamped his foot all the harder. across the room despite the chilly weather gregor s mother had pulled open a window leant far out of it and pressed her hands to her face. a strong draught of air flew in from the street towards the stairway the curtains flew up the newspapers on the table fluttered and some of them were blown onto the floor. nothing would stop gregor s father as he drove him back making hissing noises at him like a wild man. gregor had never had any practice in moving backwards and was only able to go very slowly. if gregor had only been allowed to turn round he would have been back in his room straight away but he was afraid that if he took the time to do that his father would become impatient and there was the threat of a lethal blow to his back or head from the stick in his father s hand any moment. eventually though gregor realised that he had no choice as he saw to his disgust that he was quite incapable of going backwards in a straight line so he began as quickly as possible and with frequent anxious glances at his father to turn himself round. it went very slowly but perhaps his father was able to see his good intentions as he did nothing to hinder him in fact now and then he used the tip of his stick to give directions from a distance as to which way to turn. if only his father would stop that unbearable hissing it was making gregor quite confused. when he had nearly finished turning round still listening to that hissing he made a mistake and turned himself back a little the way he had just come. he was pleased when he finally had his head in front of the doorway but then saw that it was too narrow and his body was too broad to get through it without further difficulty. in his present mood it obviously did not occur to his father to open the other of the double doors so that gregor would have enough space to get through. he was merely fixed on the idea that gregor should be got back into his room as quickly as possible. nor would he ever have allowed gregor the time to get himself upright as preparation for getting through the doorway. what he did making more noise than ever was to drive gregor forwards all the harder as if there had been nothing in the way it sounded to gregor as if there was now more than one father behind him it was not a pleasant experience and gregor pushed himself into the doorway without regard for what might happen. one side of his body lifted itself he lay at an angle in the doorway one flank scraped on the white door and was painfully injured leaving vile brown flecks on it soon he was stuck fast and would not have been able to move at all by himself the little legs along one side hung quivering in the air while those on the other side were pressed painfully against the ground. then his father gave him a hefty shove from behind which released him from where he was held and sent him flying and heavily bleeding deep into his room. the door was slammed shut with the stick then finally all was quiet. \n"
          ]
        }
      ]
    },
    {
      "cell_type": "code",
      "source": [
        "len(processed_book)"
      ],
      "metadata": {
        "colab": {
          "base_uri": "https://localhost:8080/"
        },
        "id": "H-UWsSWY0phQ",
        "outputId": "6f7c0bc1-5356-4da5-f1f2-99ca35c31868"
      },
      "execution_count": null,
      "outputs": [
        {
          "output_type": "execute_result",
          "data": {
            "text/plain": [
              "37409"
            ]
          },
          "metadata": {},
          "execution_count": 24
        }
      ]
    },
    {
      "cell_type": "code",
      "source": [
        "# EDA\n",
        "len(re.findall(r'the',processed_book))\n",
        "processed_book = re.sub(r'\\si\\s', \" I \",processed_book)\n",
        "processed_book = re.sub(r'[^\\w\\s]',\" \",processed_book)\n",
        "print(processed_book)"
      ],
      "metadata": {
        "colab": {
          "base_uri": "https://localhost:8080/"
        },
        "id": "OEiOcGy90uT5",
        "outputId": "55f3b034-98c9-4372-f4f3-46d0b385c5df"
      },
      "execution_count": null,
      "outputs": [
        {
          "output_type": "stream",
          "name": "stdout",
          "text": [
            " copyright c 2002 david wyllie  metamorphosis franz kafka translated by david wyllie I one morning when gregor samsa woke from troubled dreams he found himself transformed in his bed into a horrible vermin  he lay on his armour like back and if he lifted his head a little he could see his brown belly slightly domed and divided by arches into stiff sections  the bedding was hardly able to cover it and seemed ready to slide off any moment  his many legs pitifully thin compared with the size of the rest of him waved about helplessly as he looked  what s happened to me he thought  it wasn t a dream  his room a proper human room although a little too small lay peacefully between its four familiar walls  a collection of textile samples lay spread out on the table samsa was a travelling salesman and above it there hung a picture that he had recently cut out of an illustrated magazine and housed in a nice gilded frame  it showed a lady fitted out with a fur hat and fur boa who sat upright raising a heavy fur muff that covered the whole of her lower arm towards the viewer  gregor then turned to look out the window at the dull weather  drops of rain could be heard hitting the pane which made him feel quite sad  how about if I sleep a little bit longer and forget all this nonsense he thought but that was something he was unable to do because he was used to sleeping on his right and in his present state couldn t get into that position  however hard he threw himself onto his right he always rolled back to where he was  he must have tried it a hundred times shut his eyes so that he wouldn t have to look at the floundering legs and only stopped when he began to feel a mild dull pain there that he had never felt before  oh god he thought what a strenuous career it is that I ve chosen travelling day in and day out  doing business like this takes much more effort than doing your own business at home and on top of that there s the curse of travelling worries about making train connections bad and irregular food contact with different people all the time so that you can never get to know anyone or become friendly with them  it can all go to hell he felt a slight itch up on his belly pushed himself slowly up on his back towards the headboard so that he could lift his head better found where the itch was and saw that it was covered with lots of little white spots which he didn t know what to make of and when he tried to feel the place with one of his legs he drew it quickly back because as soon as he touched it he was overcome by a cold shudder  he slid back into his former position  getting up early all the time he thought it makes you stupid  you ve got to get enough sleep  other travelling salesmen live a life of luxury  for instance whenever I go back to the guest house during the morning to copy out the contract these gentlemen are always still sitting there eating their breakfasts  I ought to just try that with my boss I d get kicked out on the spot  but who knows maybe that would be the best thing for me  if I didn t have my parents to think about I d have given in my notice a long time ago I d have gone up to the boss and told him just what I think tell him everything I would let him know just what I feel  he d fall right off his desk and it s a funny sort of business to be sitting up there at your desk talking down at your subordinates from up there especially when you have to go right up close because the boss is hard of hearing  well there s still some hope once I ve got the money together to pay off my parents debt to him another five or six years I suppose that s definitely what I ll do  that s when I ll make the big change  first of all though I ve got to get up my train leaves at five  and he looked over at the alarm clock ticking on the chest of drawers  god in heaven he thought  it was half past six and the hands were quietly moving forwards it was even later than half past more like quarter to seven  had the alarm clock not rung he could see from the bed that it had been set for four o clock as it should have been it certainly must have rung  yes but was it possible to quietly sleep through that furniture rattling noise true he had not slept peacefully but probably all the more deeply because of that  what should he do now the next train went at seven if he were to catch that he would have to rush like mad and the collection of samples was still not packed and he did not at all feel particularly fresh and lively  and even if he did catch the train he would not avoid his boss s anger as the office assistant would have been there to see the five o clock train go he would have put in his report about gregor s not being there a long time ago  the office assistant was the boss s man spineless and with no understanding  what about if he reported sick but that would be extremely strained and suspicious as in fifteen years of service gregor had never once yet been ill  his boss would certainly come round with the doctor from the medical insurance company accuse his parents of having a lazy son and accept the doctor s recommendation not to make any claim as the doctor believed that no one was ever ill but that many were workshy  and what s more would he have been entirely wrong in this case gregor did in fact apart from excessive sleepiness after sleeping for so long feel completely well and even felt much hungrier than usual  he was still hurriedly thinking all this through unable to decide to get out of the bed when the clock struck quarter to seven  there was a cautious knock at the door near his head  gregor somebody called it was his mother it s quarter to seven  didn t you want to go somewhere that gentle voice gregor was shocked when he heard his own voice answering it could hardly be recognised as the voice he had had before  as if from deep inside him there was a painful and uncontrollable squeaking mixed in with it the words could be made out at first but then there was a sort of echo which made them unclear leaving the hearer unsure whether he had heard properly or not  gregor had wanted to give a full answer and explain everything but in the circumstances contented himself with saying yes mother yes thank you I m getting up now  the change in gregor s voice probably could not be noticed outside through the wooden door as his mother was satisfied with this explanation and shuffled away  but this short conversation made the other members of the family aware that gregor against their expectations was still at home and soon his father came knocking at one of the side doors gently but with his fist  gregor gregor he called what s wrong and after a short while he called again with a warning deepness in his voice gregor gregor at the other side door his sister came plaintively gregor aren t you well do you need anything gregor answered to both sides I m ready now making an effort to remove all the strangeness from his voice by enunciating very carefully and putting long pauses between each individual word  his father went back to his breakfast but his sister whispered gregor open the door I beg of you  gregor however had no thought of opening the door and instead congratulated himself for his cautious habit acquired from his travelling of locking all doors at night even when he was at home  the first thing he wanted to do was to get up in peace without being disturbed to get dressed and most of all to have his breakfast  only then would he consider what to do next as he was well aware that he would not bring his thoughts to any sensible conclusions by lying in bed  he remembered that he had often felt a slight pain in bed perhaps caused by lying awkwardly but that had always turned out to be pure imagination and he wondered how his imaginings would slowly resolve themselves today  he did not have the slightest doubt that the change in his voice was nothing more than the first sign of a serious cold which was an occupational hazard for travelling salesmen  it was a simple matter to throw off the covers he only had to blow himself up a little and they fell off by themselves  but it became difficult after that especially as he was so exceptionally broad  he would have used his arms and his hands to push himself up but instead of them he only had all those little legs continuously moving in different directions and which he was moreover unable to control  if he wanted to bend one of them then that was the first one that would stretch itself out and if he finally managed to do what he wanted with that leg all the others seemed to be set free and would move about painfully  this is something that can t be done in bed gregor said to himself so don t keep trying to do it   the first thing he wanted to do was get the lower part of his body out of the bed but he had never seen this lower part and could not imagine what it looked like it turned out to be too hard to move it went so slowly and finally almost in a frenzy when he carelessly shoved himself forwards with all the force he could gather he chose the wrong direction hit hard against the lower bedpost and learned from the burning pain he felt that the lower part of his body might well at present be the most sensitive  so then he tried to get the top part of his body out of the bed first carefully turning his head to the side  this he managed quite easily and despite its breadth and its weight the bulk of his body eventually followed slowly in the direction of the head  but when he had at last got his head out of the bed and into the fresh air it occurred to him that if he let himself fall it would be a miracle if his head were not injured so he became afraid to carry on pushing himself forward the same way  and he could not knock himself out now at any price better to stay in bed than lose consciousness  it took just as much effort to get back to where he had been earlier but when he lay there sighing and was once more watching his legs as they struggled against each other even harder than before if that was possible he could think of no way of bringing peace and order to this chaos  he told himself once more that it was not possible for him to stay in bed and that the most sensible thing to do would be to get free of it in whatever way he could at whatever sacrifice  at the same time though he did not forget to remind himself that calm consideration was much better than rushing to desperate conclusions  at times like this he would direct his eyes to the window and look out as clearly as he could but unfortunately even the other side of the narrow street was enveloped in morning fog and the view had little confidence or cheer to offer him  seven o clock already he said to himself when the clock struck again seven o clock and there s still a fog like this  and he lay there quietly a while longer breathing lightly as if he perhaps expected the total stillness to bring things back to their real and natural state  but then he said to himself before it strikes quarter past seven I ll definitely have to have got properly out of bed  and by then somebody will have come round from work to ask what s happened to me as well as they open up at work before seven o clock  and so he set himself to the task of swinging the entire length of his body out of the bed all at the same time  if he succeeded in falling out of bed in this way and kept his head raised as he did so he could probably avoid injuring it  his back seemed to be quite hard and probably nothing would happen to it falling onto the carpet  his main concern was for the loud noise he was bound to make and which even through all the doors would probably raise concern if not alarm  but it was something that had to be risked  when gregor was already sticking half way out of the bed the new method was more of a game than an effort all he had to do was rock back and forth it occurred to him how simple everything would be if somebody came to help him  two strong people he had his father and the maid in mind would have been more than enough they would only have to push their arms under the dome of his back peel him away from the bed bend down with the load and then be patient and careful as he swang over onto the floor where hopefully the little legs would find a use  should he really call for help though even apart from the fact that all the doors were locked despite all the difficulty he was in he could not suppress a smile at this thought  after a while he had already moved so far across that it would have been hard for him to keep his balance if he rocked too hard  the time was now ten past seven and he would have to make a final decision very soon  then there was a ring at the door of the flat  that ll be someone from work he said to himself and froze very still although his little legs only became all the more lively as they danced around  for a moment everything remained quiet  they re not opening the door gregor said to himself caught in some nonsensical hope  but then of course the maid s firm steps went to the door as ever and opened it  gregor only needed to hear the visitor s first words of greeting and he knew who it was the chief clerk himself  why did gregor have to be the only one condemned to work for a company where they immediately became highly suspicious at the slightest shortcoming were all employees every one of them louts was there not one of them who was faithful and devoted who would go so mad with pangs of conscience that he couldn t get out of bed if he didn t spend at least a couple of hours in the morning on company business was it really not enough to let one of the trainees make enquiries assuming enquiries were even necessary did the chief clerk have to come himself and did they have to show the whole innocent family that this was so suspicious that only the chief clerk could be trusted to have the wisdom to investigate it and more because these thoughts had made him upset than through any proper decision he swang himself with all his force out of the bed  there was a loud thump but it wasn t really a loud noise  his fall was softened a little by the carpet and gregor s back was also more elastic than he had thought which made the sound muffled and not too noticeable  he had not held his head carefully enough though and hit it as he fell annoyed and in pain he turned it and rubbed it against the carpet  something s fallen down in there said the chief clerk in the room on the left  gregor tried to imagine whether something of the sort that had happened to him today could ever happen to the chief clerk too you had to concede that it was possible  but as if in gruff reply to this question the chief clerk s firm footsteps in his highly polished boots could now be heard in the adjoining room  from the room on his right gregor s sister whispered to him to let him know gregor the chief clerk is here  yes I know said gregor to himself but without daring to raise his voice loud enough for his sister to hear him  gregor said his father now from the room to his left the chief clerk has come round and wants to know why you didn t leave on the early train  we don t know what to say to him  and anyway he wants to speak to you personally  so please open up this door  I m sure he ll be good enough to forgive the untidiness of your room  then the chief clerk called good morning mr  samsa   he isn t well said his mother to the chief clerk while his father continued to speak through the door  he isn t well please believe me  why else would gregor have missed a train the lad only ever thinks about the business  it nearly makes me cross the way he never goes out in the evenings he s been in town for a week now but stayed home every evening  he sits with us in the kitchen and just reads the paper or studies train timetables  his idea of relaxation is working with his fretsaw  he s made a little frame for instance it only took him two or three evenings you ll be amazed how nice it is it s hanging up in his room you ll see it as soon as gregor opens the door  anyway I m glad you re here we wouldn t have been able to get gregor to open the door by ourselves he s so stubborn and I m sure he isn t well he said this morning that he is but he isn t  I ll be there in a moment said gregor slowly and thoughtfully but without moving so that he would not miss any word of the conversation  well I can t think of any other way of explaining it mrs  samsa said the chief clerk I hope it s nothing serious  but on the other hand I must say that if we people in commerce ever become slightly unwell then fortunately or unfortunately as you like we simply have to overcome it because of business considerations  can the chief clerk come in to see you now then asked his father impatiently knocking at the door again  no said gregor  in the room on his right there followed a painful silence in the room on his left his sister began to cry  so why did his sister not go and join the others she had probably only just got up and had not even begun to get dressed  and why was she crying was it because he had not got up and had not let the chief clerk in because he was in danger of losing his job and if that happened his boss would once more pursue their parents with the same demands as before there was no need to worry about things like that yet  gregor was still there and had not the slightest intention of abandoning his family  for the time being he just lay there on the carpet and no one who knew the condition he was in would seriously have expected him to let the chief clerk in  it was only a minor discourtesy and a suitable excuse could easily be found for it later on it was not something for which gregor could be sacked on the spot  and it seemed to gregor much more sensible to leave him now in peace instead of disturbing him with talking at him and crying  but the others didn t know what was happening they were worried that would excuse their behaviour  the chief clerk now raised his voice mr  samsa he called to him what is wrong you barricade yourself in your room give us no more than yes or no for an answer you are causing serious and unnecessary concern to your parents and you fail and I mention this just by the way you fail to carry out your business duties in a way that is quite unheard of  I m speaking here on behalf of your parents and of your employer and really must request a clear and immediate explanation  I am astonished quite astonished  I thought I knew you as a calm and sensible person and now you suddenly seem to be showing off with peculiar whims  this morning your employer did suggest a possible reason for your failure to appear it s true it had to do with the money that was recently entrusted to you but I came near to giving him my word of honour that that could not be the right explanation  but now that I see your incomprehensible stubbornness I no longer feel any wish whatsoever to intercede on your behalf  and nor is your position all that secure  I had originally intended to say all this to you in private but since you cause me to waste my time here for no good reason I don t see why your parents should not also learn of it  your turnover has been very unsatisfactory of late I grant you that it s not the time of year to do especially good business we recognise that but there simply is no time of year to do no business at all mr  samsa we cannot allow there to be  but sir called gregor beside himself and forgetting all else in the excitement I ll open up immediately just a moment  I m slightly unwell an attack of dizziness I haven t been able to get up  I m still in bed now  I m quite fresh again now though  I m just getting out of bed  just a moment  be patient it s not quite as easy as I d thought  I m quite alright now though  it s shocking what can suddenly happen to a person I was quite alright last night my parents know about it perhaps better than me I had a small symptom of it last night already  they must have noticed it  I don t know why I didn t let you know at work but you always think you can get over an illness without staying at home  please don t make my parents suffer there s no basis for any of the accusations you re making nobody s ever said a word to me about any of these things  maybe you haven t read the latest contracts I sent in  I ll set off with the eight o clock train as well these few hours of rest have given me strength  you don t need to wait sir I ll be in the office soon after you and please be so good as to tell that to the boss and recommend me to him and while gregor gushed out these words hardly knowing what he was saying he made his way over to the chest of drawers this was easily done probably because of the practise he had already had in bed where he now tried to get himself upright  he really did want to open the door really did want to let them see him and to speak with the chief clerk the others were being so insistent and he was curious to learn what they would say when they caught sight of him  if they were shocked then it would no longer be gregor s responsibility and he could rest  if however they took everything calmly he would still have no reason to be upset and if he hurried he really could be at the station for eight o clock  the first few times he tried to climb up on the smooth chest of drawers he just slid down again but he finally gave himself one last swing and stood there upright the lower part of his body was in serious pain but he no longer gave any attention to it  now he let himself fall against the back of a nearby chair and held tightly to the edges of it with his little legs  by now he had also calmed down and kept quiet so that he could listen to what the chief clerk was saying  did you understand a word of all that the chief clerk asked his parents surely he s not trying to make fools of us   oh god called his mother who was already in tears he could be seriously ill and we re making him suffer  grete grete she then cried  mother his sister called from the other side  they communicated across gregor s room  you ll have to go for the doctor straight away  gregor is ill  quick get the doctor  did you hear the way gregor spoke just now that was the voice of an animal said the chief clerk with a calmness that was in contrast with his mother s screams  anna anna his father called into the kitchen through the entrance hall clapping his hands get a locksmith here now and the two girls their skirts swishing immediately ran out through the hall wrenching open the front door of the flat as they went  how had his sister managed to get dressed so quickly there was no sound of the door banging shut again they must have left it open people often do in homes where something awful has happened  gregor in contrast had become much calmer  so they couldn t understand his words any more although they seemed clear enough to him clearer than before perhaps his ears had become used to the sound  they had realised though that there was something wrong with him and were ready to help  the first response to his situation had been confident and wise and that made him feel better  he felt that he had been drawn back in among people and from the doctor and the locksmith he expected great and surprising achievements although he did not really distinguish one from the other  whatever was said next would be crucial so in order to make his voice as clear as possible he coughed a little but taking care to do this not too loudly as even this might well sound different from the way that a human coughs and he was no longer sure he could judge this for himself  meanwhile it had become very quiet in the next room  perhaps his parents were sat at the table whispering with the chief clerk or perhaps they were all pressed against the door and listening  gregor slowly pushed his way over to the door with the chair  once there he let go of it and threw himself onto the door holding himself upright against it using the adhesive on the tips of his legs  he rested there a little while to recover from the effort involved and then set himself to the task of turning the key in the lock with his mouth  he seemed unfortunately to have no proper teeth how was he then to grasp the key but the lack of teeth was of course made up for with a very strong jaw using the jaw he really was able to start the key turning ignoring the fact that he must have been causing some kind of damage as a brown fluid came from his mouth flowed over the key and dripped onto the floor  listen said the chief clerk in the next room he s turning the key  gregor was greatly encouraged by this but they all should have been calling to him his father and his mother too well done gregor they should have cried keep at it keep hold of the lock and with the idea that they were all excitedly following his efforts he bit on the key with all his strength paying no attention to the pain he was causing himself  as the key turned round he turned around the lock with it only holding himself upright with his mouth and hung onto the key or pushed it down again with the whole weight of his body as needed  the clear sound of the lock as it snapped back was gregor s sign that he could break his concentration and as he regained his breath he said to himself so I didn t need the locksmith after all   then he lay his head on the handle of the door to open it completely  because he had to open the door in this way it was already wide open before he could be seen  he had first to slowly turn himself around one of the double doors and he had to do it very carefully if he did not want to fall flat on his back before entering the room  he was still occupied with this difficult movement unable to pay attention to anything else when he heard the chief clerk exclaim a loud oh which sounded like the soughing of the wind  now he also saw him he was the nearest to the door his hand pressed against his open mouth and slowly retreating as if driven by a steady and invisible force  gregor s mother her hair still dishevelled from bed despite the chief clerk s being there looked at his father  then she unfolded her arms took two steps forward towards gregor and sank down onto the floor into her skirts that spread themselves out around her as her head disappeared down onto her breast  his father looked hostile and clenched his fists as if wanting to knock gregor back into his room  then he looked uncertainly round the living room covered his eyes with his hands and wept so that his powerful chest shook  so gregor did not go into the room but leant against the inside of the other door which was still held bolted in place  in this way only half of his body could be seen along with his head above it which he leant over to one side as he peered out at the others  meanwhile the day had become much lighter part of the endless grey black building on the other side of the street which was a hospital could be seen quite clearly with the austere and regular line of windows piercing its facade the rain was still falling now throwing down large individual droplets which hit the ground one at a time  the washing up from breakfast lay on the table there was so much of it because for gregor s father breakfast was the most important meal of the day and he would stretch it out for several hours as he sat reading a number of different newspapers  on the wall exactly opposite there was photograph of gregor when he was a lieutenant in the army his sword in his hand and a carefree smile on his face as he called forth respect for his uniform and bearing  the door to the entrance hall was open and as the front door of the flat was also open he could see onto the landing and the stairs where they began their way down below  now then said gregor well aware that he was the only one to have kept calm I ll get dressed straight away now pack up my samples and set off  will you please just let me leave you can see he said to the chief clerk that I m not stubborn and I like to do my job being a commercial traveller is arduous but without travelling I couldn t earn my living  so where are you going in to the office yes will you report everything accurately then it s quite possible for someone to be temporarily unable to work but that s just the right time to remember what s been achieved in the past and consider that later on once the difficulty has been removed he will certainly work with all the more diligence and concentration  you re well aware that I m seriously in debt to our employer as well as having to look after my parents and my sister so that I m trapped in a difficult situation but I will work my way out of it again  please don t make things any harder for me than they are already and don t take sides against me at the office  I know that nobody likes the travellers  they think we earn an enormous wage as well as having a soft time of it  that s just prejudice but they have no particular reason to think better of it  but you sir you have a better overview than the rest of the staff in fact if I can say this in confidence a better overview than the boss himself it s very easy for a businessman like him to make mistakes about his employees and judge them more harshly than he should  and you re also well aware that we travellers spend almost the whole year away from the office so that we can very easily fall victim to gossip and chance and groundless complaints and it s almost impossible to defend yourself from that sort of thing we don t usually even hear about them or if at all it s when we arrive back home exhausted from a trip and that s when we feel the harmful effects of what s been going on without even knowing what caused them  please don t go away at least first say something to show that you grant that I m at least partly right but the chief clerk had turned away as soon as gregor had started to speak and with protruding lips only stared back at him over his trembling shoulders as he left  he did not keep still for a moment while gregor was speaking but moved steadily towards the door without taking his eyes off him  he moved very gradually as if there had been some secret prohibition on leaving the room  it was only when he had reached the entrance hall that he made a sudden movement drew his foot from the living room and rushed forward in a panic  in the hall he stretched his right hand far out towards the stairway as if out there there were some supernatural force waiting to save him  gregor realised that it was out of the question to let the chief clerk go away in this mood if his position in the firm was not to be put into extreme danger  that was something his parents did not understand very well over the years they had become convinced that this job would provide for gregor for his entire life and besides they had so much to worry about at present that they had lost sight of any thought for the future  gregor though did think about the future  the chief clerk had to be held back calmed down convinced and finally won over the future of gregor and his family depended on it if only his sister were here she was clever she was already in tears while gregor was still lying peacefully on his back  and the chief clerk was a lover of women surely she could persuade him she would close the front door in the entrance hall and talk him out of his shocked state  but his sister was not there gregor would have to do the job himself  and without considering that he still was not familiar with how well he could move about in his present state or that his speech still might not or probably would not be understood he let go of the door pushed himself through the opening tried to reach the chief clerk on the landing who ridiculously was holding on to the banister with both hands but gregor fell immediately over and with a little scream as he sought something to hold onto landed on his numerous little legs  hardly had that happened than for the first time that day he began to feel alright with his body the little legs had the solid ground under them to his pleasure they did exactly as he told them they were even making the effort to carry him where he wanted to go and he was soon believing that all his sorrows would soon be finally at an end  he held back the urge to move but swayed from side to side as he crouched there on the floor  his mother was not far away in front of him and seemed at first quite engrossed in herself but then she suddenly jumped up with her arms outstretched and her fingers spread shouting help for pity s sake help the way she held her head suggested she wanted to see gregor better but the unthinking way she was hurrying backwards showed that she did not she had forgotten that the table was behind her with all the breakfast things on it when she reached the table she sat quickly down on it without knowing what she was doing without even seeming to notice that the coffee pot had been knocked over and a gush of coffee was pouring down onto the carpet  mother mother said gregor gently looking up at her  he had completely forgotten the chief clerk for the moment but could not help himself snapping in the air with his jaws at the sight of the flow of coffee  that set his mother screaming anew she fled from the table and into the arms of his father as he rushed towards her  gregor though had no time to spare for his parents now the chief clerk had already reached the stairs with his chin on the banister he looked back for the last time  gregor made a run for him he wanted to be sure of reaching him the chief clerk must have expected something as he leapt down several steps at once and disappeared his shouts resounding all around the staircase  the flight of the chief clerk seemed unfortunately to put gregor s father into a panic as well  until then he had been relatively self controlled but now instead of running after the chief clerk himself or at least not impeding gregor as he ran after him gregor s father seized the chief clerk s stick in his right hand the chief clerk had left it behind on a chair along with his hat and overcoat picked up a large newspaper from the table with his left and used them to drive gregor back into his room stamping his foot at him as he went  gregor s appeals to his father were of no help his appeals were simply not understood however much he humbly turned his head his father merely stamped his foot all the harder  across the room despite the chilly weather gregor s mother had pulled open a window leant far out of it and pressed her hands to her face  a strong draught of air flew in from the street towards the stairway the curtains flew up the newspapers on the table fluttered and some of them were blown onto the floor  nothing would stop gregor s father as he drove him back making hissing noises at him like a wild man  gregor had never had any practice in moving backwards and was only able to go very slowly  if gregor had only been allowed to turn round he would have been back in his room straight away but he was afraid that if he took the time to do that his father would become impatient and there was the threat of a lethal blow to his back or head from the stick in his father s hand any moment  eventually though gregor realised that he had no choice as he saw to his disgust that he was quite incapable of going backwards in a straight line so he began as quickly as possible and with frequent anxious glances at his father to turn himself round  it went very slowly but perhaps his father was able to see his good intentions as he did nothing to hinder him in fact now and then he used the tip of his stick to give directions from a distance as to which way to turn  if only his father would stop that unbearable hissing it was making gregor quite confused  when he had nearly finished turning round still listening to that hissing he made a mistake and turned himself back a little the way he had just come  he was pleased when he finally had his head in front of the doorway but then saw that it was too narrow and his body was too broad to get through it without further difficulty  in his present mood it obviously did not occur to his father to open the other of the double doors so that gregor would have enough space to get through  he was merely fixed on the idea that gregor should be got back into his room as quickly as possible  nor would he ever have allowed gregor the time to get himself upright as preparation for getting through the doorway  what he did making more noise than ever was to drive gregor forwards all the harder as if there had been nothing in the way it sounded to gregor as if there was now more than one father behind him it was not a pleasant experience and gregor pushed himself into the doorway without regard for what might happen  one side of his body lifted itself he lay at an angle in the doorway one flank scraped on the white door and was painfully injured leaving vile brown flecks on it soon he was stuck fast and would not have been able to move at all by himself the little legs along one side hung quivering in the air while those on the other side were pressed painfully against the ground  then his father gave him a hefty shove from behind which released him from where he was held and sent him flying and heavily bleeding deep into his room  the door was slammed shut with the stick then finally all was quiet  \n"
          ]
        }
      ]
    },
    {
      "cell_type": "code",
      "source": [
        "tokenizer = Tokenizer()\n",
        "tokenizer.fit_on_texts([processed_book])\n",
        "#saving the tokenizer\n",
        "pickle.dump(tokenizer,open('token.pkl','wb'))\n",
        "sequence_data = tokenizer.texts_to_sequences([processed_book])[0] #vectorize the text corpus\n",
        "sequence_data[:15]"
      ],
      "metadata": {
        "colab": {
          "base_uri": "https://localhost:8080/"
        },
        "id": "oNx9T_cA0zU4",
        "outputId": "1384b6e2-234b-4edc-d075-0f95eaabf232"
      },
      "execution_count": null,
      "outputs": [
        {
          "output_type": "execute_result",
          "data": {
            "text/plain": [
              "[642, 643, 644, 421, 422, 645, 646, 647, 648, 75, 421, 422, 15, 57, 163]"
            ]
          },
          "metadata": {},
          "execution_count": 26
        }
      ]
    },
    {
      "cell_type": "code",
      "source": [
        "len(sequence_data)"
      ],
      "metadata": {
        "colab": {
          "base_uri": "https://localhost:8080/"
        },
        "id": "6hHgdN0802id",
        "outputId": "3d653eff-ecf4-4234-a6a5-cbc6433dfc72"
      },
      "execution_count": null,
      "outputs": [
        {
          "output_type": "execute_result",
          "data": {
            "text/plain": [
              "7275"
            ]
          },
          "metadata": {},
          "execution_count": 27
        }
      ]
    },
    {
      "cell_type": "code",
      "source": [
        "vocab_size = len(tokenizer.word_index)+1 #number of unique words in the text corpus\n",
        "print(vocab_size)"
      ],
      "metadata": {
        "colab": {
          "base_uri": "https://localhost:8080/"
        },
        "id": "pZVu4GYr04sh",
        "outputId": "c9fa67fc-13cc-4282-b56f-3affb0d155ca"
      },
      "execution_count": null,
      "outputs": [
        {
          "output_type": "stream",
          "name": "stdout",
          "text": [
            "1355\n"
          ]
        }
      ]
    },
    {
      "cell_type": "code",
      "source": [
        "sequences = []\n",
        "for i in range(3,len(sequence_data)):\n",
        "  words = sequence_data[i-3:i+1]\n",
        "  sequences.append(words)\n",
        "print(\"The length of sequences are: \",len(sequences))\n",
        "sequences = np.array(sequences)\n",
        "sequences[:10]"
      ],
      "metadata": {
        "colab": {
          "base_uri": "https://localhost:8080/"
        },
        "id": "L5VQO34607eP",
        "outputId": "0ec611de-e19f-4d7d-97fa-5a15015314af"
      },
      "execution_count": null,
      "outputs": [
        {
          "output_type": "stream",
          "name": "stdout",
          "text": [
            "The length of sequences are:  7272\n"
          ]
        },
        {
          "output_type": "execute_result",
          "data": {
            "text/plain": [
              "array([[642, 643, 644, 421],\n",
              "       [643, 644, 421, 422],\n",
              "       [644, 421, 422, 645],\n",
              "       [421, 422, 645, 646],\n",
              "       [422, 645, 646, 647],\n",
              "       [645, 646, 647, 648],\n",
              "       [646, 647, 648,  75],\n",
              "       [647, 648,  75, 421],\n",
              "       [648,  75, 421, 422],\n",
              "       [ 75, 421, 422,  15]])"
            ]
          },
          "metadata": {},
          "execution_count": 29
        }
      ]
    },
    {
      "cell_type": "code",
      "source": [
        "X=[]\n",
        "Y=[]\n",
        "for i in sequences:\n",
        "  X.append(i[0:3])\n",
        "  Y.append(i[3])\n",
        "X=np.array(X)\n",
        "Y=np.array(Y)\n"
      ],
      "metadata": {
        "id": "tkmU86QA1oxT"
      },
      "execution_count": null,
      "outputs": []
    },
    {
      "cell_type": "code",
      "source": [
        "Y=to_categorical(Y,num_classes=vocab_size)\n",
        "Y[:5]"
      ],
      "metadata": {
        "colab": {
          "base_uri": "https://localhost:8080/"
        },
        "id": "EujsfvDV1vvq",
        "outputId": "c5f04ab0-e30b-4470-d28e-b806cc7c4635"
      },
      "execution_count": null,
      "outputs": [
        {
          "output_type": "execute_result",
          "data": {
            "text/plain": [
              "array([[0., 0., 0., ..., 0., 0., 0.],\n",
              "       [0., 0., 0., ..., 0., 0., 0.],\n",
              "       [0., 0., 0., ..., 0., 0., 0.],\n",
              "       [0., 0., 0., ..., 0., 0., 0.],\n",
              "       [0., 0., 0., ..., 0., 0., 0.]], dtype=float32)"
            ]
          },
          "metadata": {},
          "execution_count": 31
        }
      ]
    },
    {
      "cell_type": "code",
      "source": [
        "model = Sequential()\n",
        "model.add(Embedding(vocab_size,10,input_length=3))\n",
        "model.add(LSTM(1000))\n",
        "model.add(Dropout(0.2))\n",
        "model.add(Dense(vocab_size,activation=\"softmax\"))"
      ],
      "metadata": {
        "id": "zTMFEKFl12uT"
      },
      "execution_count": null,
      "outputs": []
    },
    {
      "cell_type": "code",
      "source": [
        "model.summary()"
      ],
      "metadata": {
        "colab": {
          "base_uri": "https://localhost:8080/"
        },
        "id": "hYX5EmA64RBI",
        "outputId": "2df00150-369d-4b80-c64f-aa44c2a8ddca"
      },
      "execution_count": null,
      "outputs": [
        {
          "output_type": "stream",
          "name": "stdout",
          "text": [
            "Model: \"sequential\"\n",
            "_________________________________________________________________\n",
            " Layer (type)                Output Shape              Param #   \n",
            "=================================================================\n",
            " embedding (Embedding)       (None, 3, 10)             13550     \n",
            "                                                                 \n",
            " lstm (LSTM)                 (None, 1000)              4044000   \n",
            "                                                                 \n",
            " dropout (Dropout)           (None, 1000)              0         \n",
            "                                                                 \n",
            " dense (Dense)               (None, 1355)              1356355   \n",
            "                                                                 \n",
            "=================================================================\n",
            "Total params: 5,413,905\n",
            "Trainable params: 5,413,905\n",
            "Non-trainable params: 0\n",
            "_________________________________________________________________\n"
          ]
        }
      ]
    },
    {
      "cell_type": "code",
      "source": [
        "from tensorflow.keras.callbacks import ModelCheckpoint\n",
        "file_name_path=\"weights-improvement-{epoch:02d}-{loss:.4f}.hdf5\"\n",
        "checkpoint = ModelCheckpoint(file_name_path, monitor='loss', \n",
        "verbose=1, save_best_only=True, mode='min')\n",
        "model.compile(loss=\"categorical_crossentropy\",optimizer=Adam(learning_rate=0.001))\n",
        "callbacks = [checkpoint]"
      ],
      "metadata": {
        "id": "yq4GzwGZ4UuN"
      },
      "execution_count": null,
      "outputs": []
    },
    {
      "cell_type": "code",
      "source": [
        "model.fit(X, Y, epochs=50, batch_size=64, callbacks=callbacks) "
      ],
      "metadata": {
        "colab": {
          "base_uri": "https://localhost:8080/"
        },
        "id": "34qH-wGi4ezn",
        "outputId": "051bc92c-a1c9-4113-f9dc-63a33b430050"
      },
      "execution_count": null,
      "outputs": [
        {
          "output_type": "stream",
          "name": "stdout",
          "text": [
            "Epoch 1/50\n",
            "114/114 [==============================] - ETA: 0s - loss: 6.2920\n",
            "Epoch 00001: loss improved from inf to 6.29201, saving model to weights-improvement-01-6.2920.hdf5\n",
            "114/114 [==============================] - 7s 15ms/step - loss: 6.2920\n",
            "Epoch 2/50\n",
            "112/114 [============================>.] - ETA: 0s - loss: 5.8976\n",
            "Epoch 00002: loss improved from 6.29201 to 5.89983, saving model to weights-improvement-02-5.8998.hdf5\n",
            "114/114 [==============================] - 2s 14ms/step - loss: 5.8998\n",
            "Epoch 3/50\n",
            "112/114 [============================>.] - ETA: 0s - loss: 5.8514\n",
            "Epoch 00003: loss improved from 5.89983 to 5.85193, saving model to weights-improvement-03-5.8519.hdf5\n",
            "114/114 [==============================] - 2s 15ms/step - loss: 5.8519\n",
            "Epoch 4/50\n",
            "114/114 [==============================] - ETA: 0s - loss: 5.7851\n",
            "Epoch 00004: loss improved from 5.85193 to 5.78508, saving model to weights-improvement-04-5.7851.hdf5\n",
            "114/114 [==============================] - 2s 14ms/step - loss: 5.7851\n",
            "Epoch 5/50\n",
            "114/114 [==============================] - ETA: 0s - loss: 5.6731\n",
            "Epoch 00005: loss improved from 5.78508 to 5.67312, saving model to weights-improvement-05-5.6731.hdf5\n",
            "114/114 [==============================] - 2s 14ms/step - loss: 5.6731\n",
            "Epoch 6/50\n",
            "111/114 [============================>.] - ETA: 0s - loss: 5.5038\n",
            "Epoch 00006: loss improved from 5.67312 to 5.50373, saving model to weights-improvement-06-5.5037.hdf5\n",
            "114/114 [==============================] - 2s 15ms/step - loss: 5.5037\n",
            "Epoch 7/50\n",
            "114/114 [==============================] - ETA: 0s - loss: 5.3204\n",
            "Epoch 00007: loss improved from 5.50373 to 5.32038, saving model to weights-improvement-07-5.3204.hdf5\n",
            "114/114 [==============================] - 2s 14ms/step - loss: 5.3204\n",
            "Epoch 8/50\n",
            "114/114 [==============================] - ETA: 0s - loss: 5.1445\n",
            "Epoch 00008: loss improved from 5.32038 to 5.14452, saving model to weights-improvement-08-5.1445.hdf5\n",
            "114/114 [==============================] - 2s 14ms/step - loss: 5.1445\n",
            "Epoch 9/50\n",
            "112/114 [============================>.] - ETA: 0s - loss: 4.9633\n",
            "Epoch 00009: loss improved from 5.14452 to 4.96295, saving model to weights-improvement-09-4.9630.hdf5\n",
            "114/114 [==============================] - 2s 15ms/step - loss: 4.9630\n",
            "Epoch 10/50\n",
            "113/114 [============================>.] - ETA: 0s - loss: 4.7780\n",
            "Epoch 00010: loss improved from 4.96295 to 4.77708, saving model to weights-improvement-10-4.7771.hdf5\n",
            "114/114 [==============================] - 2s 14ms/step - loss: 4.7771\n",
            "Epoch 11/50\n",
            "111/114 [============================>.] - ETA: 0s - loss: 4.5928\n",
            "Epoch 00011: loss improved from 4.77708 to 4.59800, saving model to weights-improvement-11-4.5980.hdf5\n",
            "114/114 [==============================] - 2s 14ms/step - loss: 4.5980\n",
            "Epoch 12/50\n",
            "112/114 [============================>.] - ETA: 0s - loss: 4.3963\n",
            "Epoch 00012: loss improved from 4.59800 to 4.40015, saving model to weights-improvement-12-4.4002.hdf5\n",
            "114/114 [==============================] - 2s 15ms/step - loss: 4.4002\n",
            "Epoch 13/50\n",
            "114/114 [==============================] - ETA: 0s - loss: 4.2124\n",
            "Epoch 00013: loss improved from 4.40015 to 4.21239, saving model to weights-improvement-13-4.2124.hdf5\n",
            "114/114 [==============================] - 2s 14ms/step - loss: 4.2124\n",
            "Epoch 14/50\n",
            "113/114 [============================>.] - ETA: 0s - loss: 4.0148\n",
            "Epoch 00014: loss improved from 4.21239 to 4.01612, saving model to weights-improvement-14-4.0161.hdf5\n",
            "114/114 [==============================] - 2s 14ms/step - loss: 4.0161\n",
            "Epoch 15/50\n",
            "114/114 [==============================] - ETA: 0s - loss: 3.8080\n",
            "Epoch 00015: loss improved from 4.01612 to 3.80801, saving model to weights-improvement-15-3.8080.hdf5\n",
            "114/114 [==============================] - 2s 15ms/step - loss: 3.8080\n",
            "Epoch 16/50\n",
            "113/114 [============================>.] - ETA: 0s - loss: 3.6035\n",
            "Epoch 00016: loss improved from 3.80801 to 3.60551, saving model to weights-improvement-16-3.6055.hdf5\n",
            "114/114 [==============================] - 2s 14ms/step - loss: 3.6055\n",
            "Epoch 17/50\n",
            "113/114 [============================>.] - ETA: 0s - loss: 3.3888\n",
            "Epoch 00017: loss improved from 3.60551 to 3.38818, saving model to weights-improvement-17-3.3882.hdf5\n",
            "114/114 [==============================] - 2s 14ms/step - loss: 3.3882\n",
            "Epoch 18/50\n",
            "112/114 [============================>.] - ETA: 0s - loss: 3.1614\n",
            "Epoch 00018: loss improved from 3.38818 to 3.16333, saving model to weights-improvement-18-3.1633.hdf5\n",
            "114/114 [==============================] - 2s 14ms/step - loss: 3.1633\n",
            "Epoch 19/50\n",
            "113/114 [============================>.] - ETA: 0s - loss: 2.9615\n",
            "Epoch 00019: loss improved from 3.16333 to 2.96030, saving model to weights-improvement-19-2.9603.hdf5\n",
            "114/114 [==============================] - 2s 14ms/step - loss: 2.9603\n",
            "Epoch 20/50\n",
            "113/114 [============================>.] - ETA: 0s - loss: 2.7457\n",
            "Epoch 00020: loss improved from 2.96030 to 2.74718, saving model to weights-improvement-20-2.7472.hdf5\n",
            "114/114 [==============================] - 2s 14ms/step - loss: 2.7472\n",
            "Epoch 21/50\n",
            "112/114 [============================>.] - ETA: 0s - loss: 2.5511\n",
            "Epoch 00021: loss improved from 2.74718 to 2.56043, saving model to weights-improvement-21-2.5604.hdf5\n",
            "114/114 [==============================] - 2s 14ms/step - loss: 2.5604\n",
            "Epoch 22/50\n",
            "111/114 [============================>.] - ETA: 0s - loss: 2.3799\n",
            "Epoch 00022: loss improved from 2.56043 to 2.38649, saving model to weights-improvement-22-2.3865.hdf5\n",
            "114/114 [==============================] - 2s 14ms/step - loss: 2.3865\n",
            "Epoch 23/50\n",
            "113/114 [============================>.] - ETA: 0s - loss: 2.2082\n",
            "Epoch 00023: loss improved from 2.38649 to 2.20936, saving model to weights-improvement-23-2.2094.hdf5\n",
            "114/114 [==============================] - 2s 20ms/step - loss: 2.2094\n",
            "Epoch 24/50\n",
            "111/114 [============================>.] - ETA: 0s - loss: 2.0610\n",
            "Epoch 00024: loss improved from 2.20936 to 2.06518, saving model to weights-improvement-24-2.0652.hdf5\n",
            "114/114 [==============================] - 2s 15ms/step - loss: 2.0652\n",
            "Epoch 25/50\n",
            "112/114 [============================>.] - ETA: 0s - loss: 1.8978\n",
            "Epoch 00025: loss improved from 2.06518 to 1.89969, saving model to weights-improvement-25-1.8997.hdf5\n",
            "114/114 [==============================] - 2s 14ms/step - loss: 1.8997\n",
            "Epoch 26/50\n",
            "112/114 [============================>.] - ETA: 0s - loss: 1.7888\n",
            "Epoch 00026: loss improved from 1.89969 to 1.79318, saving model to weights-improvement-26-1.7932.hdf5\n",
            "114/114 [==============================] - 2s 15ms/step - loss: 1.7932\n",
            "Epoch 27/50\n",
            "111/114 [============================>.] - ETA: 0s - loss: 1.6724\n",
            "Epoch 00027: loss improved from 1.79318 to 1.67468, saving model to weights-improvement-27-1.6747.hdf5\n",
            "114/114 [==============================] - 2s 14ms/step - loss: 1.6747\n",
            "Epoch 28/50\n",
            "113/114 [============================>.] - ETA: 0s - loss: 1.5660\n",
            "Epoch 00028: loss improved from 1.67468 to 1.56815, saving model to weights-improvement-28-1.5681.hdf5\n",
            "114/114 [==============================] - 2s 14ms/step - loss: 1.5681\n",
            "Epoch 29/50\n",
            "112/114 [============================>.] - ETA: 0s - loss: 1.4647\n",
            "Epoch 00029: loss improved from 1.56815 to 1.46428, saving model to weights-improvement-29-1.4643.hdf5\n",
            "114/114 [==============================] - 2s 14ms/step - loss: 1.4643\n",
            "Epoch 30/50\n",
            "111/114 [============================>.] - ETA: 0s - loss: 1.3751\n",
            "Epoch 00030: loss improved from 1.46428 to 1.37949, saving model to weights-improvement-30-1.3795.hdf5\n",
            "114/114 [==============================] - 2s 14ms/step - loss: 1.3795\n",
            "Epoch 31/50\n",
            "113/114 [============================>.] - ETA: 0s - loss: 1.2979\n",
            "Epoch 00031: loss improved from 1.37949 to 1.30086, saving model to weights-improvement-31-1.3009.hdf5\n",
            "114/114 [==============================] - 2s 14ms/step - loss: 1.3009\n",
            "Epoch 32/50\n",
            "113/114 [============================>.] - ETA: 0s - loss: 1.2242\n",
            "Epoch 00032: loss improved from 1.30086 to 1.22501, saving model to weights-improvement-32-1.2250.hdf5\n",
            "114/114 [==============================] - 2s 15ms/step - loss: 1.2250\n",
            "Epoch 33/50\n",
            "111/114 [============================>.] - ETA: 0s - loss: 1.1633\n",
            "Epoch 00033: loss improved from 1.22501 to 1.16293, saving model to weights-improvement-33-1.1629.hdf5\n",
            "114/114 [==============================] - 2s 14ms/step - loss: 1.1629\n",
            "Epoch 34/50\n",
            "114/114 [==============================] - ETA: 0s - loss: 1.0884\n",
            "Epoch 00034: loss improved from 1.16293 to 1.08837, saving model to weights-improvement-34-1.0884.hdf5\n",
            "114/114 [==============================] - 2s 14ms/step - loss: 1.0884\n",
            "Epoch 35/50\n",
            "112/114 [============================>.] - ETA: 0s - loss: 1.0490\n",
            "Epoch 00035: loss improved from 1.08837 to 1.05343, saving model to weights-improvement-35-1.0534.hdf5\n",
            "114/114 [==============================] - 2s 15ms/step - loss: 1.0534\n",
            "Epoch 36/50\n",
            "113/114 [============================>.] - ETA: 0s - loss: 0.9957\n",
            "Epoch 00036: loss improved from 1.05343 to 0.99836, saving model to weights-improvement-36-0.9984.hdf5\n",
            "114/114 [==============================] - 2s 14ms/step - loss: 0.9984\n",
            "Epoch 37/50\n",
            "111/114 [============================>.] - ETA: 0s - loss: 0.9386\n",
            "Epoch 00037: loss improved from 0.99836 to 0.94638, saving model to weights-improvement-37-0.9464.hdf5\n",
            "114/114 [==============================] - 2s 14ms/step - loss: 0.9464\n",
            "Epoch 38/50\n",
            "113/114 [============================>.] - ETA: 0s - loss: 0.9095\n",
            "Epoch 00038: loss improved from 0.94638 to 0.90976, saving model to weights-improvement-38-0.9098.hdf5\n",
            "114/114 [==============================] - 2s 15ms/step - loss: 0.9098\n",
            "Epoch 39/50\n",
            "111/114 [============================>.] - ETA: 0s - loss: 0.8693\n",
            "Epoch 00039: loss improved from 0.90976 to 0.87192, saving model to weights-improvement-39-0.8719.hdf5\n",
            "114/114 [==============================] - 2s 14ms/step - loss: 0.8719\n",
            "Epoch 40/50\n",
            "112/114 [============================>.] - ETA: 0s - loss: 0.8330\n",
            "Epoch 00040: loss improved from 0.87192 to 0.83460, saving model to weights-improvement-40-0.8346.hdf5\n",
            "114/114 [==============================] - 2s 14ms/step - loss: 0.8346\n",
            "Epoch 41/50\n",
            "111/114 [============================>.] - ETA: 0s - loss: 0.7993\n",
            "Epoch 00041: loss improved from 0.83460 to 0.80408, saving model to weights-improvement-41-0.8041.hdf5\n",
            "114/114 [==============================] - 2s 15ms/step - loss: 0.8041\n",
            "Epoch 42/50\n",
            "113/114 [============================>.] - ETA: 0s - loss: 0.7724\n",
            "Epoch 00042: loss improved from 0.80408 to 0.77351, saving model to weights-improvement-42-0.7735.hdf5\n",
            "114/114 [==============================] - 2s 14ms/step - loss: 0.7735\n",
            "Epoch 43/50\n",
            "113/114 [============================>.] - ETA: 0s - loss: 0.7339\n",
            "Epoch 00043: loss improved from 0.77351 to 0.73412, saving model to weights-improvement-43-0.7341.hdf5\n",
            "114/114 [==============================] - 2s 15ms/step - loss: 0.7341\n",
            "Epoch 44/50\n",
            "111/114 [============================>.] - ETA: 0s - loss: 0.7156\n",
            "Epoch 00044: loss improved from 0.73412 to 0.71956, saving model to weights-improvement-44-0.7196.hdf5\n",
            "114/114 [==============================] - 2s 15ms/step - loss: 0.7196\n",
            "Epoch 45/50\n",
            "114/114 [==============================] - ETA: 0s - loss: 0.7134\n",
            "Epoch 00045: loss improved from 0.71956 to 0.71342, saving model to weights-improvement-45-0.7134.hdf5\n",
            "114/114 [==============================] - 2s 14ms/step - loss: 0.7134\n",
            "Epoch 46/50\n",
            "112/114 [============================>.] - ETA: 0s - loss: 0.6864\n",
            "Epoch 00046: loss improved from 0.71342 to 0.68645, saving model to weights-improvement-46-0.6864.hdf5\n",
            "114/114 [==============================] - 2s 15ms/step - loss: 0.6864\n",
            "Epoch 47/50\n",
            "111/114 [============================>.] - ETA: 0s - loss: 0.6552\n",
            "Epoch 00047: loss improved from 0.68645 to 0.65967, saving model to weights-improvement-47-0.6597.hdf5\n",
            "114/114 [==============================] - 2s 15ms/step - loss: 0.6597\n",
            "Epoch 48/50\n",
            "111/114 [============================>.] - ETA: 0s - loss: 0.6417\n",
            "Epoch 00048: loss improved from 0.65967 to 0.64580, saving model to weights-improvement-48-0.6458.hdf5\n",
            "114/114 [==============================] - 2s 14ms/step - loss: 0.6458\n",
            "Epoch 49/50\n",
            "112/114 [============================>.] - ETA: 0s - loss: 0.6344\n",
            "Epoch 00049: loss improved from 0.64580 to 0.63387, saving model to weights-improvement-49-0.6339.hdf5\n",
            "114/114 [==============================] - 2s 15ms/step - loss: 0.6339\n",
            "Epoch 50/50\n",
            "112/114 [============================>.] - ETA: 0s - loss: 0.6102\n",
            "Epoch 00050: loss improved from 0.63387 to 0.60954, saving model to weights-improvement-50-0.6095.hdf5\n",
            "114/114 [==============================] - 2s 14ms/step - loss: 0.6095\n"
          ]
        },
        {
          "output_type": "execute_result",
          "data": {
            "text/plain": [
              "<keras.callbacks.History at 0x7fd7c2ff7410>"
            ]
          },
          "metadata": {},
          "execution_count": 35
        }
      ]
    },
    {
      "cell_type": "code",
      "source": [
        "from tensorflow.keras.models import load_model\n",
        "import numpy as np\n",
        "import pickle\n",
        "model = load_model('weights-improvement-50-0.6095.hdf5')\n",
        "tokenizer = pickle.load(open('token.pkl','rb'))\n",
        "\n",
        "def Predict_Next_Words(model,tokenizer,text):\n",
        "  sequence = tokenizer.texts_to_sequences([text])\n",
        "  sequence = np.array(sequence)\n",
        "  preds = np.argmax(model.predict(sequence))\n",
        "  predicted_word = \"\"\n",
        "\n",
        "  for key,value in tokenizer.word_index.items():\n",
        "    if value==preds:\n",
        "      predicted_word=key\n",
        "      break\n",
        "  print(predicted_word)\n",
        "  return predicted_word"
      ],
      "metadata": {
        "id": "LMu1wBiS5KeO"
      },
      "execution_count": null,
      "outputs": []
    },
    {
      "cell_type": "code",
      "source": [
        "while(True):\n",
        "  text = input(\"Enter: \")\n",
        "  if text==\"0\":\n",
        "    print(\"Execution completed\")\n",
        "    break\n",
        "  else:\n",
        "    text=text.split(\" \")\n",
        "    text=text[-3:]\n",
        "    print(text)\n",
        "    Predict_Next_Words(model,tokenizer,text)"
      ],
      "metadata": {
        "colab": {
          "base_uri": "https://localhost:8080/"
        },
        "id": "vdFJ9dGm5XQ2",
        "outputId": "1a36a80a-ec78-4fa3-947a-404761bbe09a"
      },
      "execution_count": null,
      "outputs": [
        {
          "output_type": "stream",
          "name": "stdout",
          "text": [
            "Enter: A collection of textile\n",
            "['collection', 'of', 'textile']\n",
            "samples\n",
            "Enter: Samsa was a travelling\n",
            "['was', 'a', 'travelling']\n",
            "and\n",
            "Enter: he had recently cut out of an\n",
            "['out', 'of', 'an']\n",
            "illustrated\n",
            "Enter: 0\n",
            "Execution completed\n"
          ]
        }
      ]
    }
  ]
}